{
 "cells": [
  {
   "cell_type": "markdown",
   "metadata": {},
   "source": [
    "# Evaluation\n"
   ]
  },
  {
   "cell_type": "code",
   "execution_count": 1,
   "metadata": {},
   "outputs": [],
   "source": [
    "import sys\n",
    "sys.path.append('../') #act as if we are one directory higher so imports work \n",
    "import torch\n",
    "from latent_to_timestep_model import LTT_model\n",
    "from dataset import load_data_from_dir"
   ]
  },
  {
   "cell_type": "code",
   "execution_count": 2,
   "metadata": {},
   "outputs": [],
   "source": [
    "path = \"/netpool/homes/connor/DiffusionModels/LD3_connor/train_data/train_data_cifar10/uni_pc_NFE20_edm_seed0\"\n",
    "latents, targets, conditions, unconditions = load_data_from_dir(data_folder=path, limit=200)\n"
   ]
  },
  {
   "cell_type": "markdown",
   "metadata": {},
   "source": [
    "## LTT Model"
   ]
  },
  {
   "cell_type": "code",
   "execution_count": 29,
   "metadata": {},
   "outputs": [
    {
     "data": {
      "text/plain": [
       "<All keys matched successfully>"
      ]
     },
     "execution_count": 29,
     "metadata": {},
     "output_type": "execute_result"
    }
   ],
   "source": [
    "model_path, steps = \"/netpool/homes/connor/DiffusionModels/LD3_connor/logs/logs_cifar10/N10-val50-train450-rv12-seed0/final_ltt_model.pt\", 10\n",
    "model_path, steps = \"/netpool/homes/connor/DiffusionModels/LD3_connor/logs/logs_cifar10/N10-val50-train50-rv12-seed0/ltt_model.pt\", 10\n",
    "\n",
    "model_path, steps = \"/netpool/homes/connor/DiffusionModels/LD3_connor/logs/logs_cifar10/N10-val50-train450-rv12-seed0-fixed_scaling/final_ltt_model.pt\", 10\n",
    "model_path, steps  = \"/netpool/homes/connor/DiffusionModels/LD3_connor/logs/logs_cifar10/N7-val50-train450-rv12-seed0-fixed_scaling/final_ltt_model.pt\", 7\n",
    "model_path, steps = \"/netpool/homes/connor/DiffusionModels/LD3_connor/logs/logs_cifar10/N5-val50-train450-rv12-seed0-fixed_scaling/final_ltt_model.pt\", 5\n",
    "model_path, steps = \"/netpool/homes/connor/DiffusionModels/LD3_connor/logs/logs_cifar10/N3-val50-train450-rv12-seed0-fixed_scaling/final_ltt_model.pt\", 3\n",
    "\n",
    "\n",
    "ltt_model = LTT_model(steps=steps)\n",
    "state_dict = torch.load(model_path, weights_only=True)\n",
    "ltt_model.load_state_dict(state_dict)  # Load the model state"
   ]
  },
  {
   "cell_type": "code",
   "execution_count": 30,
   "metadata": {},
   "outputs": [
    {
     "name": "stdout",
     "output_type": "stream",
     "text": [
      "19263404\n"
     ]
    }
   ],
   "source": [
    "def count_parameters(model):\n",
    "    return sum(p.numel() for p in model.parameters() if p.requires_grad)\n",
    "\n",
    "print(count_parameters(ltt_model))"
   ]
  },
  {
   "cell_type": "code",
   "execution_count": 31,
   "metadata": {},
   "outputs": [
    {
     "data": {
      "image/png": "[encoded data removed]",
      "text/plain": [
       "<Figure size 640x480 with 1 Axes>"
      ]
     },
     "metadata": {},
     "output_type": "display_data"
    }
   ],
   "source": [
    "params_list = [ltt_model.forward(latent) for latent in latents]\n",
    "params_list = torch.stack(params_list)\n",
    "\n",
    "#visualize as violin plot over each of the 10 timesteps\n",
    "import matplotlib.pyplot as plt\n",
    "import seaborn as sns\n",
    "import pandas as pd\n",
    "\n",
    "params_list = params_list.detach().numpy()\n",
    "params_list = params_list.reshape(-1, steps+1)\n",
    "params_list = pd.DataFrame(params_list, columns=[f\"{i}\" for i in range(steps+1)])\n",
    "sns.violinplot(data=params_list)\n",
    "plt.show()\n"
   ]
  },
  {
   "cell_type": "code",
   "execution_count": 32,
   "metadata": {},
   "outputs": [
    {
     "data": {
      "text/html": [
       "<div>\n",
       "<style scoped>\n",
       "    .dataframe tbody tr th:only-of-type {\n",
       "        vertical-align: middle;\n",
       "    }\n",
       "\n",
       "    .dataframe tbody tr th {\n",
       "        vertical-align: top;\n",
       "    }\n",
       "\n",
       "    .dataframe thead th {\n",
       "        text-align: right;\n",
       "    }\n",
       "</style>\n",
       "<table border=\"1\" class=\"dataframe\">\n",
       "  <thead>\n",
       "    <tr style=\"text-align: right;\">\n",
       "      <th></th>\n",
       "      <th>0</th>\n",
       "      <th>1</th>\n",
       "      <th>2</th>\n",
       "      <th>3</th>\n",
       "    </tr>\n",
       "  </thead>\n",
       "  <tbody>\n",
       "    <tr>\n",
       "      <th>0</th>\n",
       "      <td>1.032520</td>\n",
       "      <td>0.937030</td>\n",
       "      <td>0.796390</td>\n",
       "      <td>1.796017</td>\n",
       "    </tr>\n",
       "    <tr>\n",
       "      <th>1</th>\n",
       "      <td>1.032961</td>\n",
       "      <td>0.936610</td>\n",
       "      <td>0.795317</td>\n",
       "      <td>1.799070</td>\n",
       "    </tr>\n",
       "    <tr>\n",
       "      <th>2</th>\n",
       "      <td>1.032485</td>\n",
       "      <td>0.937072</td>\n",
       "      <td>0.796480</td>\n",
       "      <td>1.795752</td>\n",
       "    </tr>\n",
       "    <tr>\n",
       "      <th>3</th>\n",
       "      <td>1.033579</td>\n",
       "      <td>0.936026</td>\n",
       "      <td>0.793814</td>\n",
       "      <td>1.803280</td>\n",
       "    </tr>\n",
       "    <tr>\n",
       "      <th>4</th>\n",
       "      <td>1.032939</td>\n",
       "      <td>0.936639</td>\n",
       "      <td>0.795373</td>\n",
       "      <td>1.798906</td>\n",
       "    </tr>\n",
       "    <tr>\n",
       "      <th>...</th>\n",
       "      <td>...</td>\n",
       "      <td>...</td>\n",
       "      <td>...</td>\n",
       "      <td>...</td>\n",
       "    </tr>\n",
       "    <tr>\n",
       "      <th>195</th>\n",
       "      <td>1.033466</td>\n",
       "      <td>0.936129</td>\n",
       "      <td>0.794086</td>\n",
       "      <td>1.802522</td>\n",
       "    </tr>\n",
       "    <tr>\n",
       "      <th>196</th>\n",
       "      <td>1.032638</td>\n",
       "      <td>0.936923</td>\n",
       "      <td>0.796104</td>\n",
       "      <td>1.796827</td>\n",
       "    </tr>\n",
       "    <tr>\n",
       "      <th>197</th>\n",
       "      <td>1.031760</td>\n",
       "      <td>0.937768</td>\n",
       "      <td>0.798248</td>\n",
       "      <td>1.790627</td>\n",
       "    </tr>\n",
       "    <tr>\n",
       "      <th>198</th>\n",
       "      <td>1.032535</td>\n",
       "      <td>0.937019</td>\n",
       "      <td>0.796355</td>\n",
       "      <td>1.796107</td>\n",
       "    </tr>\n",
       "    <tr>\n",
       "      <th>199</th>\n",
       "      <td>1.032483</td>\n",
       "      <td>0.937069</td>\n",
       "      <td>0.796481</td>\n",
       "      <td>1.795749</td>\n",
       "    </tr>\n",
       "  </tbody>\n",
       "</table>\n",
       "<p>200 rows × 4 columns</p>\n",
       "</div>"
      ],
      "text/plain": [
       "            0         1         2         3\n",
       "0    1.032520  0.937030  0.796390  1.796017\n",
       "1    1.032961  0.936610  0.795317  1.799070\n",
       "2    1.032485  0.937072  0.796480  1.795752\n",
       "3    1.033579  0.936026  0.793814  1.803280\n",
       "4    1.032939  0.936639  0.795373  1.798906\n",
       "..        ...       ...       ...       ...\n",
       "195  1.033466  0.936129  0.794086  1.802522\n",
       "196  1.032638  0.936923  0.796104  1.796827\n",
       "197  1.031760  0.937768  0.798248  1.790627\n",
       "198  1.032535  0.937019  0.796355  1.796107\n",
       "199  1.032483  0.937069  0.796481  1.795749\n",
       "\n",
       "[200 rows x 4 columns]"
      ]
     },
     "execution_count": 32,
     "metadata": {},
     "output_type": "execute_result"
    }
   ],
   "source": [
    "params_list"
   ]
  },
  {
   "cell_type": "code",
   "execution_count": null,
   "metadata": {},
   "outputs": [],
   "source": []
  }
 ],
 "metadata": {
  "kernelspec": {
   "display_name": "Python 3",
   "language": "python",
   "name": "python3"
  },
  "language_info": {
   "codemirror_mode": {
    "name": "ipython",
    "version": 3
   },
   "file_extension": ".py",
   "mimetype": "text/x-python",
   "name": "python",
   "nbconvert_exporter": "python",
   "pygments_lexer": "ipython3",
   "version": "3.9.18"
  }
 },
 "nbformat": 4,
 "nbformat_minor": 2
}

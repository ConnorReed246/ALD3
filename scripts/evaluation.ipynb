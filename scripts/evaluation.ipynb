{
 "cells": [
  {
   "cell_type": "markdown",
   "metadata": {},
   "source": [
    "# Evaluation\n"
   ]
  },
  {
   "cell_type": "code",
   "execution_count": 1,
   "metadata": {},
   "outputs": [],
   "source": [
    "import sys\n",
    "import os\n",
    "sys.path.append('../') #act as if we are one directory higher so imports work \n",
    "import torch\n",
    "from latent_to_timestep_model import LTT_model\n",
    "from dataset import load_data_from_dir\n",
    "import numpy as np\n",
    "import matplotlib.pyplot as plt\n",
    "import seaborn as sns\n",
    "import pandas as pd\n",
    "from torch import nn\n",
    "from sklearn.decomposition import PCA\n",
    "from sklearn.preprocessing import StandardScaler\n",
    "import plotly.express as px"
   ]
  },
  {
   "cell_type": "code",
   "execution_count": 2,
   "metadata": {},
   "outputs": [],
   "source": [
    "path = \"/netpool/homes/connor/DiffusionModels/LD3_connor/train_data/train_data_cifar10/uni_pc_NFE20_edm_seed0\"\n",
    "latents, targets, conditions, unconditions = load_data_from_dir(data_folder=path, limit=200)\n",
    "steps = 5\n"
   ]
  },
  {
   "cell_type": "markdown",
   "metadata": {},
   "source": [
    "## LTT Model"
   ]
  },
  {
   "cell_type": "code",
   "execution_count": 23,
   "metadata": {},
   "outputs": [
    {
     "data": {
      "text/plain": [
       "<All keys matched successfully>"
      ]
     },
     "execution_count": 23,
     "metadata": {},
     "output_type": "execute_result"
    }
   ],
   "source": [
    "model_path, steps = \"/netpool/homes/connor/DiffusionModels/LD3_connor/logs/logs_cifar10/N10-val50-train450-rv12-seed0/final_ltt_model.pt\", 10\n",
    "model_path, steps = \"/netpool/homes/connor/DiffusionModels/LD3_connor/logs/logs_cifar10/N10-val50-train50-rv12-seed0/ltt_model.pt\", 10\n",
    "\n",
    "model_path, steps = \"/netpool/homes/connor/DiffusionModels/LD3_connor/logs/logs_cifar10/N10-val50-train450-rv12-seed0-fixed_scaling/final_ltt_model.pt\", 10\n",
    "model_path, steps  = \"/netpool/homes/connor/DiffusionModels/LD3_connor/logs/logs_cifar10/N7-val50-train450-rv12-seed0-fixed_scaling/final_ltt_model.pt\", 7\n",
    "model_path, steps = \"/netpool/homes/connor/DiffusionModels/LD3_connor/logs/logs_cifar10/N5-val50-train450-rv12-seed0-fixed_scaling/final_ltt_model.pt\", 5\n",
    "# model_path, steps = \"/netpool/homes/connor/DiffusionModels/LD3_connor/logs/logs_cifar10/N3-val50-train450-rv12-seed0-fixed_scaling/final_ltt_model.pt\", 3\n",
    "model_path, steps = \"/netpool/homes/connor/DiffusionModels/LD3_connor/logs/logs_cifar10/LTT_batch3_moreData_N5-val50-train450-r5/final_ltt_model.pt\", 5\n",
    "\n",
    "\n",
    "ltt_model = LTT_model(steps=steps)\n",
    "state_dict = torch.load(model_path, weights_only=True)\n",
    "ltt_model.load_state_dict(state_dict)  # Load the model state"
   ]
  },
  {
   "cell_type": "code",
   "execution_count": 24,
   "metadata": {},
   "outputs": [
    {
     "name": "stdout",
     "output_type": "stream",
     "text": [
      "19263606\n"
     ]
    }
   ],
   "source": [
    "def count_parameters(model):\n",
    "    return sum(p.numel() for p in model.parameters() if p.requires_grad)\n",
    "\n",
    "print(count_parameters(ltt_model))"
   ]
  },
  {
   "cell_type": "code",
   "execution_count": 25,
   "metadata": {},
   "outputs": [
    {
     "data": {
      "image/png": "[encoded data removed]",
      "text/plain": [
       "<Figure size 640x480 with 1 Axes>"
      ]
     },
     "metadata": {},
     "output_type": "display_data"
    }
   ],
   "source": [
    "\n",
    "params_list = ltt_model.forward(torch.stack(latents)) \n",
    "\n",
    "#visualize as violin plot over each of the 10 timesteps\n",
    "import matplotlib.pyplot as plt\n",
    "import seaborn as sns\n",
    "import pandas as pd\n",
    "\n",
    "params_list = params_list.detach().numpy()\n",
    "params_list = params_list.reshape(-1, steps+1)\n",
    "params_list = pd.DataFrame(params_list, columns=[f\"{i}\" for i in range(steps+1)])\n",
    "sns.violinplot(data=params_list)\n",
    "plt.show()\n"
   ]
  },
  {
   "cell_type": "code",
   "execution_count": 26,
   "metadata": {},
   "outputs": [
    {
     "data": {
      "text/html": [
       "<div>\n",
       "<style scoped>\n",
       "    .dataframe tbody tr th:only-of-type {\n",
       "        vertical-align: middle;\n",
       "    }\n",
       "\n",
       "    .dataframe tbody tr th {\n",
       "        vertical-align: top;\n",
       "    }\n",
       "\n",
       "    .dataframe thead th {\n",
       "        text-align: right;\n",
       "    }\n",
       "</style>\n",
       "<table border=\"1\" class=\"dataframe\">\n",
       "  <thead>\n",
       "    <tr style=\"text-align: right;\">\n",
       "      <th></th>\n",
       "      <th>0</th>\n",
       "      <th>1</th>\n",
       "      <th>2</th>\n",
       "      <th>3</th>\n",
       "      <th>4</th>\n",
       "      <th>5</th>\n",
       "    </tr>\n",
       "  </thead>\n",
       "  <tbody>\n",
       "    <tr>\n",
       "      <th>0</th>\n",
       "      <td>0.228996</td>\n",
       "      <td>0.114896</td>\n",
       "      <td>0.116618</td>\n",
       "      <td>0.077159</td>\n",
       "      <td>0.083689</td>\n",
       "      <td>0.378642</td>\n",
       "    </tr>\n",
       "    <tr>\n",
       "      <th>1</th>\n",
       "      <td>0.229003</td>\n",
       "      <td>0.114892</td>\n",
       "      <td>0.116614</td>\n",
       "      <td>0.077155</td>\n",
       "      <td>0.083684</td>\n",
       "      <td>0.378653</td>\n",
       "    </tr>\n",
       "    <tr>\n",
       "      <th>2</th>\n",
       "      <td>0.228990</td>\n",
       "      <td>0.114900</td>\n",
       "      <td>0.116621</td>\n",
       "      <td>0.077162</td>\n",
       "      <td>0.083693</td>\n",
       "      <td>0.378635</td>\n",
       "    </tr>\n",
       "    <tr>\n",
       "      <th>3</th>\n",
       "      <td>0.228987</td>\n",
       "      <td>0.114902</td>\n",
       "      <td>0.116623</td>\n",
       "      <td>0.077164</td>\n",
       "      <td>0.083695</td>\n",
       "      <td>0.378631</td>\n",
       "    </tr>\n",
       "    <tr>\n",
       "      <th>4</th>\n",
       "      <td>0.228986</td>\n",
       "      <td>0.114903</td>\n",
       "      <td>0.116623</td>\n",
       "      <td>0.077164</td>\n",
       "      <td>0.083696</td>\n",
       "      <td>0.378629</td>\n",
       "    </tr>\n",
       "    <tr>\n",
       "      <th>...</th>\n",
       "      <td>...</td>\n",
       "      <td>...</td>\n",
       "      <td>...</td>\n",
       "      <td>...</td>\n",
       "      <td>...</td>\n",
       "      <td>...</td>\n",
       "    </tr>\n",
       "    <tr>\n",
       "      <th>195</th>\n",
       "      <td>0.228992</td>\n",
       "      <td>0.114898</td>\n",
       "      <td>0.116620</td>\n",
       "      <td>0.077161</td>\n",
       "      <td>0.083691</td>\n",
       "      <td>0.378638</td>\n",
       "    </tr>\n",
       "    <tr>\n",
       "      <th>196</th>\n",
       "      <td>0.228986</td>\n",
       "      <td>0.114902</td>\n",
       "      <td>0.116623</td>\n",
       "      <td>0.077164</td>\n",
       "      <td>0.083695</td>\n",
       "      <td>0.378630</td>\n",
       "    </tr>\n",
       "    <tr>\n",
       "      <th>197</th>\n",
       "      <td>0.228991</td>\n",
       "      <td>0.114899</td>\n",
       "      <td>0.116620</td>\n",
       "      <td>0.077161</td>\n",
       "      <td>0.083692</td>\n",
       "      <td>0.378636</td>\n",
       "    </tr>\n",
       "    <tr>\n",
       "      <th>198</th>\n",
       "      <td>0.228979</td>\n",
       "      <td>0.114907</td>\n",
       "      <td>0.116627</td>\n",
       "      <td>0.077168</td>\n",
       "      <td>0.083700</td>\n",
       "      <td>0.378620</td>\n",
       "    </tr>\n",
       "    <tr>\n",
       "      <th>199</th>\n",
       "      <td>0.228979</td>\n",
       "      <td>0.114907</td>\n",
       "      <td>0.116627</td>\n",
       "      <td>0.077168</td>\n",
       "      <td>0.083700</td>\n",
       "      <td>0.378620</td>\n",
       "    </tr>\n",
       "  </tbody>\n",
       "</table>\n",
       "<p>200 rows × 6 columns</p>\n",
       "</div>"
      ],
      "text/plain": [
       "            0         1         2         3         4         5\n",
       "0    0.228996  0.114896  0.116618  0.077159  0.083689  0.378642\n",
       "1    0.229003  0.114892  0.116614  0.077155  0.083684  0.378653\n",
       "2    0.228990  0.114900  0.116621  0.077162  0.083693  0.378635\n",
       "3    0.228987  0.114902  0.116623  0.077164  0.083695  0.378631\n",
       "4    0.228986  0.114903  0.116623  0.077164  0.083696  0.378629\n",
       "..        ...       ...       ...       ...       ...       ...\n",
       "195  0.228992  0.114898  0.116620  0.077161  0.083691  0.378638\n",
       "196  0.228986  0.114902  0.116623  0.077164  0.083695  0.378630\n",
       "197  0.228991  0.114899  0.116620  0.077161  0.083692  0.378636\n",
       "198  0.228979  0.114907  0.116627  0.077168  0.083700  0.378620\n",
       "199  0.228979  0.114907  0.116627  0.077168  0.083700  0.378620\n",
       "\n",
       "[200 rows x 6 columns]"
      ]
     },
     "execution_count": 26,
     "metadata": {},
     "output_type": "execute_result"
    }
   ],
   "source": [
    "params_list\n"
   ]
  },
  {
   "cell_type": "markdown",
   "metadata": {},
   "source": [
    "### U-net encoding"
   ]
  },
  {
   "cell_type": "code",
   "execution_count": null,
   "metadata": {},
   "outputs": [],
   "source": [
    "# Create a dictionary to store the output\n",
    "hook_storage = {}\n",
    "\n",
    "# Define the hook function using a closure\n",
    "def get_hook(storage):\n",
    "    def hook_fn(module, input, output):\n",
    "        storage[\"unet_output\"] = output  # Store output in the dictionary\n",
    "    return hook_fn\n",
    "# Register the hook on the UNet\n",
    "hook_handle = ltt_model.unet.register_forward_hook(get_hook(hook_storage))\n",
    "\n",
    "# Run the forward pass\n",
    "output = ltt_model.forward(latents[0])\n",
    "\n",
    "# Retrieve the stored UNet output\n",
    "unet_output = hook_storage[\"unet_output\"]\n",
    "print(\"Stored UNet Output:\", unet_output.shape)\n",
    "\n",
    "\n"
   ]
  },
  {
   "cell_type": "code",
   "execution_count": null,
   "metadata": {},
   "outputs": [],
   "source": [
    "def mse(tensor1, tensor2):\n",
    "    return torch.mean((tensor1 - tensor2) ** 2)"
   ]
  },
  {
   "cell_type": "code",
   "execution_count": null,
   "metadata": {},
   "outputs": [],
   "source": [
    "encodings = []\n",
    "num_matrices = 20\n",
    "for latent in latents[:num_matrices]:\n",
    "    output = ltt_model.forward(latent)\n",
    "    encodings.append(hook_storage[\"unet_output\"])\n",
    "\n",
    "\n",
    "mse_matrix = np.zeros((num_matrices, num_matrices))\n",
    "\n",
    "for i in range(num_matrices):\n",
    "    for j in range(num_matrices):\n",
    "        mse_matrix[i, j] = mse(encodings[i], encodings[j])\n",
    "\n",
    "# Plot the heatmap\n",
    "plt.figure(figsize=(10, 8))\n",
    "sns.heatmap(mse_matrix, annot=False, cmap=\"viridis\", linewidths=0.5)\n",
    "plt.title(\"Pairwise MSE Heatmap\")\n",
    "plt.xlabel(\"Matrix Index\")\n",
    "plt.ylabel(\"Matrix Index\")\n",
    "plt.show()\n",
    "\n"
   ]
  },
  {
   "cell_type": "code",
   "execution_count": null,
   "metadata": {},
   "outputs": [],
   "source": [
    "encodings[1]"
   ]
  },
  {
   "cell_type": "code",
   "execution_count": null,
   "metadata": {},
   "outputs": [],
   "source": [
    "encodings[2]"
   ]
  },
  {
   "cell_type": "markdown",
   "metadata": {},
   "source": [
    "## Optimal Timesteps"
   ]
  },
  {
   "cell_type": "code",
   "execution_count": null,
   "metadata": {},
   "outputs": [],
   "source": [
    "#load from torch.save(loss_matrix, os.path.join(args.data_dir, f\"loss_matrix.pt\"))\n",
    "data_dir = \"/netpool/homes/connor/DiffusionModels/LD3_connor/train_data/train_data_cifar10/uni_pc_NFE20_edm_seed0/\"\n",
    "loss_matrix = torch.load(os.path.join(data_dir, f\"loss_matrix.pt\"))"
   ]
  },
  {
   "cell_type": "code",
   "execution_count": null,
   "metadata": {},
   "outputs": [],
   "source": [
    "loss_matrix"
   ]
  },
  {
   "cell_type": "code",
   "execution_count": null,
   "metadata": {},
   "outputs": [],
   "source": [
    "#plot loss matrix\n",
    "\n",
    "plt.figure(figsize=(10, 8))\n",
    "sns.heatmap(loss_matrix, annot=False, cmap=\"viridis\", linewidths=0.5)\n",
    "plt.title(\"Pairwise MSE Heatmap\")\n",
    "plt.xlabel(\"Matrix Index\")\n",
    "plt.ylabel(\"Matrix Index\")\n",
    "plt.show()"
   ]
  },
  {
   "cell_type": "code",
   "execution_count": null,
   "metadata": {},
   "outputs": [],
   "source": [
    "#find lowest loss matrix\n",
    "min_loss = torch.min(loss_matrix, axis=1)\n",
    "min_loss"
   ]
  },
  {
   "cell_type": "code",
   "execution_count": null,
   "metadata": {},
   "outputs": [],
   "source": [
    "plt.figure(figsize=(10, 8))\n",
    "for i in range(6):\n",
    "    min_values = [torch.min(loss_matrix[i, :j+1,]).item() for j in range(300)]\n",
    "    plt.plot(range(300), min_values, label=f'Line {i+1}')\n",
    "plt.title(\"Lowest Value of Second Dimension Up to That Point\")\n",
    "plt.xlabel(\"Steps\")\n",
    "plt.ylabel(\"Lowest Value\")\n",
    "plt.legend()\n",
    "plt.show()"
   ]
  },
  {
   "cell_type": "code",
   "execution_count": null,
   "metadata": {},
   "outputs": [],
   "source": [
    "gradient_matrix = torch.load(os.path.join(data_dir, f\"loss_grad_matrix.pt\"))\n",
    "gradient_matrix.shape"
   ]
  },
  {
   "cell_type": "code",
   "execution_count": null,
   "metadata": {},
   "outputs": [],
   "source": [
    "plt.figure(figsize=(10, 8))\n",
    "sns.heatmap(gradient_matrix[2], annot=False, cmap=\"viridis\", linewidths=0.5)\n",
    "plt.title(\"Pairwise MSE Heatmap\")\n",
    "plt.xlabel(\"Matrix Index\")\n",
    "plt.ylabel(\"Matrix Index\")\n",
    "plt.show()\n"
   ]
  },
  {
   "cell_type": "code",
   "execution_count": null,
   "metadata": {},
   "outputs": [],
   "source": [
    "plt.figure(figsize=(10, 8))\n",
    "for i in range(6):\n",
    "    plt.plot(range(300), abs(gradient_matrix[2, :, i]), label=f'Line {i+1}')\n",
    "plt.yscale('log')\n",
    "plt.title(\"Gradient Matrix Lines\")\n",
    "plt.xlabel(\"Steps\")\n",
    "plt.ylabel(\"Gradient Value (log scale)\")\n",
    "plt.legend()\n",
    "plt.show()\n"
   ]
  },
  {
   "cell_type": "code",
   "execution_count": null,
   "metadata": {},
   "outputs": [],
   "source": [
    "test_tensor = torch.tensor([1,2,3,4,5,6], dtype=torch.float32)\n",
    "test_tensor2 = torch.tensor([1,2,3,4,5,6], dtype=torch.float32)*2\n",
    "test_tensor3 = torch.tensor([1,2,3,4,5,6], dtype=torch.float32)+1\n",
    "\n",
    "m = nn.Softmax()\n",
    "print(m(test_tensor))\n",
    "print(m(test_tensor2))\n",
    "print(m(test_tensor3))"
   ]
  },
  {
   "cell_type": "markdown",
   "metadata": {},
   "source": [
    "### Compare optimal params for different images"
   ]
  },
  {
   "cell_type": "code",
   "execution_count": null,
   "metadata": {},
   "outputs": [],
   "source": [
    "pt_files = [f for f in os.listdir(path) if \"optimal_params\" in f]\n",
    "for i, file_name in enumerate(sorted(pt_files)[:]): #load all training files previously created\n",
    "    file_path = os.path.join(path, file_name)\n",
    "    params, loss = torch.load(file_path, weights_only=True)\n",
    "    data = params.detach().numpy()\n",
    "    losses = loss.detach().numpy()\n",
    "\n",
    "    # Standardize the data\n",
    "    scaler = StandardScaler()\n",
    "    data_scaled = scaler.fit_transform(data)\n",
    "\n",
    "    # Apply PCA to reduce to 2 dimensions\n",
    "    pca = PCA(n_components=2)\n",
    "    principal_components = pca.fit_transform(data_scaled)\n",
    "\n",
    "    # Plot the results\n",
    "    plt.figure(figsize=(10, 6))\n",
    "    scatter = plt.scatter(principal_components[:, 0], principal_components[:, 1],\n",
    "                        c=losses, cmap='viridis', edgecolor='k', s=100)\n",
    "    plt.colorbar(scatter, label='Loss')\n",
    "    plt.xlabel('Principal Component 1')\n",
    "    plt.ylabel('Principal Component 2')\n",
    "    plt.title('PCA Visualization Colored by Loss')\n",
    "    plt.grid(True)\n",
    "    plt.show()\n",
    "    print(\"params\\n\", data)\n",
    "    print(\"losses\\n\", losses)\n",
    "    if i > 5:\n",
    "        break"
   ]
  },
  {
   "cell_type": "code",
   "execution_count": null,
   "metadata": {},
   "outputs": [],
   "source": [
    "pt_files = [f for f in os.listdir(path) if \"optimal_params\" in f]\n",
    "pt_files = sorted(pt_files)[:6]  # Load first 6 training files\n",
    "\n",
    "shapes = ['circle', 'square', 'diamond', 'triangle-up', 'triangle-down', 'cross']  # Different marker shapes\n",
    "\n",
    "all_data = []\n",
    "best_losses = []\n",
    "\n",
    "\n",
    "\n",
    "for i, file_name in enumerate(pt_files):\n",
    "    file_path = os.path.join(path, file_name)\n",
    "    # Load parameters and loss\n",
    "    params, loss = torch.load(file_path, weights_only=True)  \n",
    "    data = params.detach().numpy()\n",
    "    losses = loss.detach().numpy()\n",
    "    all_data.append(data)\n",
    "    best_losses.append(losses)\n",
    "\n",
    "\n",
    "\n",
    "\n",
    "\n",
    "all_data = np.stack(all_data).reshape(-1, steps+1)\n",
    "best_losses = np.stack(best_losses).reshape(-1)\n",
    "\n",
    "pca = PCA(n_components=2)\n",
    "principal_components = pca.fit_transform(all_data)\n",
    "    \n",
    "# Convert to DataFrame\n",
    "df = pd.DataFrame(principal_components, columns=[\"PC1\", \"PC2\"])\n",
    "df[\"Loss\"] = best_losses\n",
    "df[\"Shape\"] = [x for x in shapes for _ in range(10)]\n",
    "df[\"params\"] = list(all_data)\n",
    "df[\"params\"] = df[\"params\"].apply(lambda x: [round(v, 4) for v in x])\n",
    "\n",
    "# # Create interactive 3D scatter plot using Plotly\n",
    "fig = px.scatter(df, x=\"PC1\", y=\"PC2\", color=\"Loss\", symbol=\"Shape\",\n",
    "                    hover_data={\"Loss\": \":.4f\", \"PC1\": False, \"PC2\": False, \"params\": True},\n",
    "                    color_continuous_scale=\"viridis\",\n",
    "                    title=\"2D PCA Visualization Colored by Loss with Different Shapes\")\n",
    "\n",
    "# Move color bar to the left\n",
    "fig.update_layout(coloraxis_colorbar=dict(x=-0.2))  \n",
    "\n",
    "fig.update_traces(marker=dict(size=5, line=dict(width=1, color=\"black\")))\n",
    "\n",
    "# Show interactive 3D plot\n",
    "fig.show() "
   ]
  },
  {
   "cell_type": "code",
   "execution_count": null,
   "metadata": {},
   "outputs": [],
   "source": [
    "pt_files = [f for f in os.listdir(path) if \"optimal_params\" in f]\n",
    "pt_files = sorted(pt_files)[:6]  # Load first 6 training files\n",
    "\n",
    "shapes = ['circle', 'square', 'diamond', 'triangle-up', 'triangle-down', 'cross']  # Different marker shapes\n",
    "\n",
    "all_data = []\n",
    "best_losses = []\n",
    "\n",
    "\n",
    "\n",
    "for i, file_name in enumerate(pt_files):\n",
    "    file_path = os.path.join(path, file_name)\n",
    "    # Load parameters and loss\n",
    "    params, loss = torch.load(file_path, weights_only=True)  \n",
    "    data = params.detach().numpy()\n",
    "    losses = loss.detach().numpy()\n",
    "    all_data.append(data)\n",
    "    best_losses.append(losses)\n",
    "\n",
    "\n",
    "all_data = np.stack(all_data).reshape(-1, steps+1)\n",
    "best_losses = np.stack(best_losses).reshape(-1)\n",
    "\n",
    "pca = PCA(n_components=3)\n",
    "principal_components = pca.fit_transform(all_data)\n",
    "    \n",
    "# Convert to DataFrame\n",
    "df = pd.DataFrame(principal_components, columns=[\"PC1\", \"PC2\", \"PC3\"])\n",
    "df[\"Loss\"] = best_losses\n",
    "df[\"Shape\"] = [x for x in shapes for _ in range(10)]\n",
    "df[\"params\"] = list(all_data)\n",
    "df[\"params\"] = df[\"params\"].apply(lambda x: [round(v, 4) for v in x])\n",
    "\n",
    "# # Create interactive 3D scatter plot using Plotly\n",
    "fig = px.scatter_3d(df, x=\"PC1\", y=\"PC2\", z=\"PC3\", color=\"Loss\", symbol=\"Shape\",\n",
    "                    hover_data={\"Loss\": \":.4f\", \"PC1\": False, \"PC2\": False, \"PC3\": False, \"params\": True},\n",
    "                    color_continuous_scale=\"viridis\",\n",
    "                    title=\"3D PCA Visualization Colored by Loss with Different Shapes\")\n",
    "\n",
    "# Move color bar to the left\n",
    "fig.update_layout(coloraxis_colorbar=dict(x=-0.2))  \n",
    "\n",
    "fig.update_traces(marker=dict(size=5, line=dict(width=1, color=\"black\")))\n",
    "\n",
    "# Show interactive 3D plot\n",
    "fig.show() "
   ]
  },
  {
   "cell_type": "code",
   "execution_count": null,
   "metadata": {},
   "outputs": [],
   "source": [
    "plt.figure(figsize=(10, 8))\n",
    "sns.histplot(best_losses, bins=50, kde=True)\n",
    "plt.title(\"Loss Distribution\")\n",
    "plt.xlabel(\"Loss\")\n",
    "plt.ylabel(\"Frequency\")\n",
    "plt.show()\n"
   ]
  },
  {
   "cell_type": "markdown",
   "metadata": {},
   "source": [
    "#### Only best trial"
   ]
  },
  {
   "cell_type": "code",
   "execution_count": null,
   "metadata": {},
   "outputs": [],
   "source": [
    "pt_files = [f for f in os.listdir(path) if \"optimal_params\" in f]\n",
    "pt_files = sorted(pt_files) # Load first 6 training files\n",
    "\n",
    "all_data = []\n",
    "best_losses = []\n",
    "all_losses = []\n",
    "\n",
    "for i, file_name in enumerate(pt_files):\n",
    "    file_path = os.path.join(path, file_name)\n",
    "    # Load parameters and loss\n",
    "    params, loss = torch.load(file_path, weights_only=True)  \n",
    "    data = params.detach().numpy()[0]\n",
    "    losses = loss.detach().numpy()\n",
    "    all_data.append(data)\n",
    "    best_losses.append(losses[0])\n",
    "    all_losses.append(losses)\n",
    "\n",
    "\n",
    "\n",
    "\n",
    "\n",
    "\n",
    "all_data = np.stack(all_data).reshape(-1, steps+1)\n",
    "best_losses = np.stack(best_losses).reshape(-1)\n",
    "\n",
    "pca = PCA(n_components=3)\n",
    "principal_components = pca.fit_transform(all_data)\n",
    "    \n",
    "# Convert to DataFrame\n",
    "df = pd.DataFrame(principal_components, columns=[\"PC1\", \"PC2\", \"PC3\"])\n",
    "df[\"Loss\"] = best_losses\n",
    "df[\"params\"] = list(all_data)\n",
    "df[\"params\"] = df[\"params\"].apply(lambda x: [round(v, 4) for v in x])\n",
    "\n",
    "# # Create interactive 3D scatter plot using Plotly\n",
    "fig = px.scatter_3d(df, x=\"PC1\", y=\"PC2\", z=\"PC3\", color=\"Loss\",\n",
    "                    hover_data={\"Loss\": \":.4f\", \"PC1\": False, \"PC2\": False, \"PC3\": False, \"params\": True},\n",
    "                    color_continuous_scale=\"viridis\",\n",
    "                    title=\"3D PCA Visualization Colored by Loss with Different Shapes\")\n",
    "\n",
    "# Move color bar to the left\n",
    "fig.update_layout(coloraxis_colorbar=dict(x=-0.2))  \n",
    "\n",
    "fig.update_traces(marker=dict(size=5, line=dict(width=1, color=\"black\")))\n",
    "\n",
    "# Show interactive 3D plot\n",
    "fig.show()"
   ]
  },
  {
   "cell_type": "code",
   "execution_count": null,
   "metadata": {},
   "outputs": [],
   "source": [
    "#plot loss distribution of all_losses\n",
    "\n",
    "plt.figure(figsize=(10, 8))\n",
    "sns.histplot(best_losses, bins=50, kde=True)\n",
    "plt.title(\"Loss Distribution\")\n",
    "plt.xlabel(\"Loss\")\n",
    "plt.ylabel(\"Frequency\")\n",
    "plt.show()\n",
    "\n"
   ]
  },
  {
   "cell_type": "code",
   "execution_count": null,
   "metadata": {},
   "outputs": [],
   "source": [
    "import plotly.graph_objects as go\n",
    "\n",
    "# Assuming all_losses and best_losses are defined\n",
    "all_losses = np.stack(all_losses).reshape(-1)\n",
    "\n",
    "fig = go.Figure()\n",
    "\n",
    "# Add histogram for all_losses\n",
    "fig.add_trace(go.Histogram(x=all_losses, nbinsx=75, histnorm='probability density', \n",
    "                           name=\"All Losses\", marker_color='blue', opacity=0.5))\n",
    "\n",
    "# Add histogram for best_losses\n",
    "fig.add_trace(go.Histogram(x=best_losses, nbinsx=75, histnorm='probability density', \n",
    "                           name=\"Best Losses\", marker_color='red', opacity=0.5))\n",
    "\n",
    "# Update layout\n",
    "fig.update_layout(\n",
    "    title=\"Loss Distribution\",\n",
    "    xaxis_title=\"Loss\",\n",
    "    yaxis_title=\"Density\",\n",
    "    barmode='overlay',  # Overlay both histograms\n",
    "    template=\"plotly_white\"  # Optional: use a clean background\n",
    ")\n",
    "\n",
    "fig.show()\n",
    "print(f\"Mean lost of first 50 validation losses: {np.mean(all_losses[:500]):.4f}\")\n",
    "print(f\"Mean lost of 50 validation best losses: {np.mean(best_losses[:50]):.4f}\")"
   ]
  }
 ],
 "metadata": {
  "kernelspec": {
   "display_name": "ld3",
   "language": "python",
   "name": "python3"
  },
  "language_info": {
   "codemirror_mode": {
    "name": "ipython",
    "version": 3
   },
   "file_extension": ".py",
   "mimetype": "text/x-python",
   "name": "python",
   "nbconvert_exporter": "python",
   "pygments_lexer": "ipython3",
   "version": "3.9.18"
  }
 },
 "nbformat": 4,
 "nbformat_minor": 2
}

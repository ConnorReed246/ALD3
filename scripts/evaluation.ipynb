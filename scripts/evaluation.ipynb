{
 "cells": [
  {
   "cell_type": "markdown",
   "metadata": {},
   "source": [
    "# Evaluation\n"
   ]
  },
  {
   "cell_type": "code",
   "execution_count": 8,
   "metadata": {},
   "outputs": [],
   "source": [
    "import sys\n",
    "sys.path.append('../') #act as if we are one directory higher so imports work \n",
    "import torch\n",
    "from latent_to_timestep_model import LTT_model\n",
    "from dataset import load_data_from_dir"
   ]
  },
  {
   "cell_type": "code",
   "execution_count": 14,
   "metadata": {},
   "outputs": [],
   "source": [
    "path = \"/netpool/homes/connor/DiffusionModels/LD3_connor/train_data/train_data_cifar10/uni_pc_NFE20_edm_seed0\"\n",
    "latents, targets, conditions, unconditions = load_data_from_dir(data_folder=path, limit=200)\n"
   ]
  },
  {
   "cell_type": "code",
   "execution_count": 16,
   "metadata": {},
   "outputs": [
    {
     "data": {
      "text/plain": [
       "torch.Size([3, 32, 32])"
      ]
     },
     "execution_count": 16,
     "metadata": {},
     "output_type": "execute_result"
    }
   ],
   "source": [
    "latents[0].fo\n"
   ]
  },
  {
   "cell_type": "markdown",
   "metadata": {},
   "source": [
    "## LTT Model"
   ]
  },
  {
   "cell_type": "code",
   "execution_count": 29,
   "metadata": {},
   "outputs": [
    {
     "data": {
      "text/plain": [
       "<All keys matched successfully>"
      ]
     },
     "execution_count": 29,
     "metadata": {},
     "output_type": "execute_result"
    }
   ],
   "source": [
    "ltt_model = LTT_model()\n",
    "model_path_450 = \"/netpool/homes/connor/DiffusionModels/LD3_connor/logs/logs_cifar10/N10-val50-train450-rv12-seed0/final_ltt_model.pt\"\n",
    "model_path_50 = \"/netpool/homes/connor/DiffusionModels/LD3_connor/logs/logs_cifar10/N10-val50-train50-rv12-seed0/ltt_model.pt\"\n",
    "state_dict = torch.load(model_path_50, weights_only=True)\n",
    "ltt_model.load_state_dict(state_dict)  # Load the model state"
   ]
  },
  {
   "cell_type": "code",
   "execution_count": 30,
   "metadata": {},
   "outputs": [
    {
     "name": "stdout",
     "output_type": "stream",
     "text": [
      "19264111\n"
     ]
    }
   ],
   "source": [
    "def count_parameters(model):\n",
    "    return sum(p.numel() for p in model.parameters() if p.requires_grad)\n",
    "\n",
    "print(count_parameters(ltt_model))"
   ]
  },
  {
   "cell_type": "code",
   "execution_count": 31,
   "metadata": {},
   "outputs": [
    {
     "data": {
      "image/png": "[encoded data removed]",
      "text/plain": [
       "<Figure size 640x480 with 1 Axes>"
      ]
     },
     "metadata": {},
     "output_type": "display_data"
    }
   ],
   "source": [
    "params_list = [ltt_model.forward(latent) for latent in latents]\n",
    "params_list = torch.stack(params_list)\n",
    "\n",
    "#visualize as violin plot over each of the 10 timesteps\n",
    "import matplotlib.pyplot as plt\n",
    "import seaborn as sns\n",
    "import pandas as pd\n",
    "\n",
    "params_list = params_list.detach().numpy()\n",
    "params_list = params_list.reshape(-1, 11)\n",
    "params_list = pd.DataFrame(params_list, columns=[f\"{i}\" for i in range(11)])\n",
    "sns.violinplot(data=params_list)\n",
    "plt.show()\n"
   ]
  },
  {
   "cell_type": "code",
   "execution_count": 32,
   "metadata": {},
   "outputs": [
    {
     "data": {
      "text/html": [
       "<div>\n",
       "<style scoped>\n",
       "    .dataframe tbody tr th:only-of-type {\n",
       "        vertical-align: middle;\n",
       "    }\n",
       "\n",
       "    .dataframe tbody tr th {\n",
       "        vertical-align: top;\n",
       "    }\n",
       "\n",
       "    .dataframe thead th {\n",
       "        text-align: right;\n",
       "    }\n",
       "</style>\n",
       "<table border=\"1\" class=\"dataframe\">\n",
       "  <thead>\n",
       "    <tr style=\"text-align: right;\">\n",
       "      <th></th>\n",
       "      <th>0</th>\n",
       "      <th>1</th>\n",
       "      <th>2</th>\n",
       "      <th>3</th>\n",
       "      <th>4</th>\n",
       "      <th>5</th>\n",
       "      <th>6</th>\n",
       "      <th>7</th>\n",
       "      <th>8</th>\n",
       "      <th>9</th>\n",
       "      <th>10</th>\n",
       "    </tr>\n",
       "  </thead>\n",
       "  <tbody>\n",
       "    <tr>\n",
       "      <th>0</th>\n",
       "      <td>0.324003</td>\n",
       "      <td>0.080537</td>\n",
       "      <td>0.927705</td>\n",
       "      <td>0.781876</td>\n",
       "      <td>0.312145</td>\n",
       "      <td>0.495137</td>\n",
       "      <td>0.884678</td>\n",
       "      <td>0.123774</td>\n",
       "      <td>0.674043</td>\n",
       "      <td>0.519087</td>\n",
       "      <td>0.915741</td>\n",
       "    </tr>\n",
       "    <tr>\n",
       "      <th>1</th>\n",
       "      <td>0.321942</td>\n",
       "      <td>0.078425</td>\n",
       "      <td>0.929663</td>\n",
       "      <td>0.784356</td>\n",
       "      <td>0.310245</td>\n",
       "      <td>0.495181</td>\n",
       "      <td>0.887099</td>\n",
       "      <td>0.121179</td>\n",
       "      <td>0.675912</td>\n",
       "      <td>0.519259</td>\n",
       "      <td>0.917962</td>\n",
       "    </tr>\n",
       "    <tr>\n",
       "      <th>2</th>\n",
       "      <td>0.323896</td>\n",
       "      <td>0.080430</td>\n",
       "      <td>0.927808</td>\n",
       "      <td>0.781999</td>\n",
       "      <td>0.312052</td>\n",
       "      <td>0.495151</td>\n",
       "      <td>0.884811</td>\n",
       "      <td>0.123648</td>\n",
       "      <td>0.674141</td>\n",
       "      <td>0.519099</td>\n",
       "      <td>0.915857</td>\n",
       "    </tr>\n",
       "    <tr>\n",
       "      <th>3</th>\n",
       "      <td>0.320216</td>\n",
       "      <td>0.076694</td>\n",
       "      <td>0.931269</td>\n",
       "      <td>0.786415</td>\n",
       "      <td>0.308657</td>\n",
       "      <td>0.495229</td>\n",
       "      <td>0.889104</td>\n",
       "      <td>0.119046</td>\n",
       "      <td>0.677480</td>\n",
       "      <td>0.519405</td>\n",
       "      <td>0.919786</td>\n",
       "    </tr>\n",
       "    <tr>\n",
       "      <th>4</th>\n",
       "      <td>0.322672</td>\n",
       "      <td>0.079173</td>\n",
       "      <td>0.928977</td>\n",
       "      <td>0.783471</td>\n",
       "      <td>0.310930</td>\n",
       "      <td>0.495182</td>\n",
       "      <td>0.886257</td>\n",
       "      <td>0.122106</td>\n",
       "      <td>0.675249</td>\n",
       "      <td>0.519209</td>\n",
       "      <td>0.917181</td>\n",
       "    </tr>\n",
       "    <tr>\n",
       "      <th>...</th>\n",
       "      <td>...</td>\n",
       "      <td>...</td>\n",
       "      <td>...</td>\n",
       "      <td>...</td>\n",
       "      <td>...</td>\n",
       "      <td>...</td>\n",
       "      <td>...</td>\n",
       "      <td>...</td>\n",
       "      <td>...</td>\n",
       "      <td>...</td>\n",
       "      <td>...</td>\n",
       "    </tr>\n",
       "    <tr>\n",
       "      <th>195</th>\n",
       "      <td>0.320776</td>\n",
       "      <td>0.077250</td>\n",
       "      <td>0.930754</td>\n",
       "      <td>0.785752</td>\n",
       "      <td>0.309176</td>\n",
       "      <td>0.495211</td>\n",
       "      <td>0.888457</td>\n",
       "      <td>0.119731</td>\n",
       "      <td>0.676969</td>\n",
       "      <td>0.519364</td>\n",
       "      <td>0.919199</td>\n",
       "    </tr>\n",
       "    <tr>\n",
       "      <th>196</th>\n",
       "      <td>0.323771</td>\n",
       "      <td>0.080299</td>\n",
       "      <td>0.927931</td>\n",
       "      <td>0.782153</td>\n",
       "      <td>0.311940</td>\n",
       "      <td>0.495152</td>\n",
       "      <td>0.884961</td>\n",
       "      <td>0.123486</td>\n",
       "      <td>0.674252</td>\n",
       "      <td>0.519116</td>\n",
       "      <td>0.915995</td>\n",
       "    </tr>\n",
       "    <tr>\n",
       "      <th>197</th>\n",
       "      <td>0.326580</td>\n",
       "      <td>0.083244</td>\n",
       "      <td>0.925196</td>\n",
       "      <td>0.778752</td>\n",
       "      <td>0.314524</td>\n",
       "      <td>0.495099</td>\n",
       "      <td>0.881609</td>\n",
       "      <td>0.127083</td>\n",
       "      <td>0.671711</td>\n",
       "      <td>0.518874</td>\n",
       "      <td>0.912899</td>\n",
       "    </tr>\n",
       "    <tr>\n",
       "      <th>198</th>\n",
       "      <td>0.323076</td>\n",
       "      <td>0.079581</td>\n",
       "      <td>0.928596</td>\n",
       "      <td>0.782993</td>\n",
       "      <td>0.311299</td>\n",
       "      <td>0.495163</td>\n",
       "      <td>0.885779</td>\n",
       "      <td>0.122604</td>\n",
       "      <td>0.674881</td>\n",
       "      <td>0.519175</td>\n",
       "      <td>0.916748</td>\n",
       "    </tr>\n",
       "    <tr>\n",
       "      <th>199</th>\n",
       "      <td>0.323954</td>\n",
       "      <td>0.080487</td>\n",
       "      <td>0.927754</td>\n",
       "      <td>0.781934</td>\n",
       "      <td>0.312102</td>\n",
       "      <td>0.495145</td>\n",
       "      <td>0.884741</td>\n",
       "      <td>0.123715</td>\n",
       "      <td>0.674089</td>\n",
       "      <td>0.519094</td>\n",
       "      <td>0.915796</td>\n",
       "    </tr>\n",
       "  </tbody>\n",
       "</table>\n",
       "<p>200 rows × 11 columns</p>\n",
       "</div>"
      ],
      "text/plain": [
       "            0         1         2         3         4         5         6  \\\n",
       "0    0.324003  0.080537  0.927705  0.781876  0.312145  0.495137  0.884678   \n",
       "1    0.321942  0.078425  0.929663  0.784356  0.310245  0.495181  0.887099   \n",
       "2    0.323896  0.080430  0.927808  0.781999  0.312052  0.495151  0.884811   \n",
       "3    0.320216  0.076694  0.931269  0.786415  0.308657  0.495229  0.889104   \n",
       "4    0.322672  0.079173  0.928977  0.783471  0.310930  0.495182  0.886257   \n",
       "..        ...       ...       ...       ...       ...       ...       ...   \n",
       "195  0.320776  0.077250  0.930754  0.785752  0.309176  0.495211  0.888457   \n",
       "196  0.323771  0.080299  0.927931  0.782153  0.311940  0.495152  0.884961   \n",
       "197  0.326580  0.083244  0.925196  0.778752  0.314524  0.495099  0.881609   \n",
       "198  0.323076  0.079581  0.928596  0.782993  0.311299  0.495163  0.885779   \n",
       "199  0.323954  0.080487  0.927754  0.781934  0.312102  0.495145  0.884741   \n",
       "\n",
       "            7         8         9        10  \n",
       "0    0.123774  0.674043  0.519087  0.915741  \n",
       "1    0.121179  0.675912  0.519259  0.917962  \n",
       "2    0.123648  0.674141  0.519099  0.915857  \n",
       "3    0.119046  0.677480  0.519405  0.919786  \n",
       "4    0.122106  0.675249  0.519209  0.917181  \n",
       "..        ...       ...       ...       ...  \n",
       "195  0.119731  0.676969  0.519364  0.919199  \n",
       "196  0.123486  0.674252  0.519116  0.915995  \n",
       "197  0.127083  0.671711  0.518874  0.912899  \n",
       "198  0.122604  0.674881  0.519175  0.916748  \n",
       "199  0.123715  0.674089  0.519094  0.915796  \n",
       "\n",
       "[200 rows x 11 columns]"
      ]
     },
     "execution_count": 32,
     "metadata": {},
     "output_type": "execute_result"
    }
   ],
   "source": [
    "params_list"
   ]
  },
  {
   "cell_type": "code",
   "execution_count": null,
   "metadata": {},
   "outputs": [],
   "source": []
  }
 ],
 "metadata": {
  "kernelspec": {
   "display_name": "Python 3",
   "language": "python",
   "name": "python3"
  },
  "language_info": {
   "codemirror_mode": {
    "name": "ipython",
    "version": 3
   },
   "file_extension": ".py",
   "mimetype": "text/x-python",
   "name": "python",
   "nbconvert_exporter": "python",
   "pygments_lexer": "ipython3",
   "version": "3.9.18"
  }
 },
 "nbformat": 4,
 "nbformat_minor": 2
}

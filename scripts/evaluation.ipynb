{
 "cells": [
  {
   "cell_type": "markdown",
   "metadata": {},
   "source": [
    "# Evaluation\n"
   ]
  },
  {
   "cell_type": "code",
   "execution_count": 36,
   "metadata": {},
   "outputs": [],
   "source": [
    "import sys\n",
    "sys.path.append('../') #act as if we are one directory higher so imports work \n",
    "import torch\n",
    "from latent_to_timestep_model import LTT_model\n",
    "from dataset import load_data_from_dir\n",
    "import numpy as np"
   ]
  },
  {
   "cell_type": "code",
   "execution_count": 52,
   "metadata": {},
   "outputs": [],
   "source": [
    "path = \"/netpool/homes/connor/DiffusionModels/LD3_connor/train_data/train_data_cifar10/uni_pc_NFE20_edm_seed0\"\n",
    "latents, targets, conditions, unconditions = load_data_from_dir(data_folder=path, limit=200)\n"
   ]
  },
  {
   "cell_type": "markdown",
   "metadata": {},
   "source": [
    "## LTT Model"
   ]
  },
  {
   "cell_type": "code",
   "execution_count": 30,
   "metadata": {},
   "outputs": [
    {
     "data": {
      "text/plain": [
       "<All keys matched successfully>"
      ]
     },
     "execution_count": 30,
     "metadata": {},
     "output_type": "execute_result"
    }
   ],
   "source": [
    "model_path, steps = \"/netpool/homes/connor/DiffusionModels/LD3_connor/logs/logs_cifar10/N10-val50-train450-rv12-seed0/final_ltt_model.pt\", 10\n",
    "model_path, steps = \"/netpool/homes/connor/DiffusionModels/LD3_connor/logs/logs_cifar10/N10-val50-train50-rv12-seed0/ltt_model.pt\", 10\n",
    "\n",
    "model_path, steps = \"/netpool/homes/connor/DiffusionModels/LD3_connor/logs/logs_cifar10/N10-val50-train450-rv12-seed0-fixed_scaling/final_ltt_model.pt\", 10\n",
    "model_path, steps  = \"/netpool/homes/connor/DiffusionModels/LD3_connor/logs/logs_cifar10/N7-val50-train450-rv12-seed0-fixed_scaling/final_ltt_model.pt\", 7\n",
    "model_path, steps = \"/netpool/homes/connor/DiffusionModels/LD3_connor/logs/logs_cifar10/N5-val50-train450-rv12-seed0-fixed_scaling/final_ltt_model.pt\", 5\n",
    "# model_path, steps = \"/netpool/homes/connor/DiffusionModels/LD3_connor/logs/logs_cifar10/N3-val50-train450-rv12-seed0-fixed_scaling/final_ltt_model.pt\", 3\n",
    "\n",
    "\n",
    "ltt_model = LTT_model(steps=steps)\n",
    "state_dict = torch.load(model_path, weights_only=True)\n",
    "ltt_model.load_state_dict(state_dict)  # Load the model state"
   ]
  },
  {
   "cell_type": "code",
   "execution_count": 21,
   "metadata": {},
   "outputs": [
    {
     "name": "stdout",
     "output_type": "stream",
     "text": [
      "19263606\n"
     ]
    }
   ],
   "source": [
    "def count_parameters(model):\n",
    "    return sum(p.numel() for p in model.parameters() if p.requires_grad)\n",
    "\n",
    "print(count_parameters(ltt_model))"
   ]
  },
  {
   "cell_type": "code",
   "execution_count": 22,
   "metadata": {},
   "outputs": [
    {
     "data": {
      "image/png": "[encoded data removed]",
      "text/plain": [
       "<Figure size 640x480 with 1 Axes>"
      ]
     },
     "metadata": {},
     "output_type": "display_data"
    }
   ],
   "source": [
    "params_list = [ltt_model.forward(latent) for latent in latents]\n",
    "params_list = torch.stack(params_list)\n",
    "\n",
    "#visualize as violin plot over each of the 10 timesteps\n",
    "import matplotlib.pyplot as plt\n",
    "import seaborn as sns\n",
    "import pandas as pd\n",
    "\n",
    "params_list = params_list.detach().numpy()\n",
    "params_list = params_list.reshape(-1, steps+1)\n",
    "params_list = pd.DataFrame(params_list, columns=[f\"{i}\" for i in range(steps+1)])\n",
    "sns.violinplot(data=params_list)\n",
    "plt.show()\n"
   ]
  },
  {
   "cell_type": "code",
   "execution_count": 23,
   "metadata": {},
   "outputs": [
    {
     "data": {
      "text/html": [
       "<div>\n",
       "<style scoped>\n",
       "    .dataframe tbody tr th:only-of-type {\n",
       "        vertical-align: middle;\n",
       "    }\n",
       "\n",
       "    .dataframe tbody tr th {\n",
       "        vertical-align: top;\n",
       "    }\n",
       "\n",
       "    .dataframe thead th {\n",
       "        text-align: right;\n",
       "    }\n",
       "</style>\n",
       "<table border=\"1\" class=\"dataframe\">\n",
       "  <thead>\n",
       "    <tr style=\"text-align: right;\">\n",
       "      <th></th>\n",
       "      <th>0</th>\n",
       "      <th>1</th>\n",
       "      <th>2</th>\n",
       "      <th>3</th>\n",
       "      <th>4</th>\n",
       "      <th>5</th>\n",
       "    </tr>\n",
       "  </thead>\n",
       "  <tbody>\n",
       "    <tr>\n",
       "      <th>0</th>\n",
       "      <td>1.350336</td>\n",
       "      <td>0.837728</td>\n",
       "      <td>0.732342</td>\n",
       "      <td>0.498624</td>\n",
       "      <td>0.311475</td>\n",
       "      <td>1.936432</td>\n",
       "    </tr>\n",
       "    <tr>\n",
       "      <th>1</th>\n",
       "      <td>1.358233</td>\n",
       "      <td>0.834756</td>\n",
       "      <td>0.727248</td>\n",
       "      <td>0.490541</td>\n",
       "      <td>0.301588</td>\n",
       "      <td>1.940877</td>\n",
       "    </tr>\n",
       "    <tr>\n",
       "      <th>2</th>\n",
       "      <td>1.348769</td>\n",
       "      <td>0.838312</td>\n",
       "      <td>0.733349</td>\n",
       "      <td>0.500238</td>\n",
       "      <td>0.313467</td>\n",
       "      <td>1.935513</td>\n",
       "    </tr>\n",
       "    <tr>\n",
       "      <th>3</th>\n",
       "      <td>1.363316</td>\n",
       "      <td>0.832843</td>\n",
       "      <td>0.723976</td>\n",
       "      <td>0.485341</td>\n",
       "      <td>0.295314</td>\n",
       "      <td>1.943601</td>\n",
       "    </tr>\n",
       "    <tr>\n",
       "      <th>4</th>\n",
       "      <td>1.355395</td>\n",
       "      <td>0.835828</td>\n",
       "      <td>0.729089</td>\n",
       "      <td>0.493436</td>\n",
       "      <td>0.305115</td>\n",
       "      <td>1.939316</td>\n",
       "    </tr>\n",
       "    <tr>\n",
       "      <th>...</th>\n",
       "      <td>...</td>\n",
       "      <td>...</td>\n",
       "      <td>...</td>\n",
       "      <td>...</td>\n",
       "      <td>...</td>\n",
       "      <td>...</td>\n",
       "    </tr>\n",
       "    <tr>\n",
       "      <th>195</th>\n",
       "      <td>1.361471</td>\n",
       "      <td>0.833524</td>\n",
       "      <td>0.725141</td>\n",
       "      <td>0.487252</td>\n",
       "      <td>0.297604</td>\n",
       "      <td>1.942613</td>\n",
       "    </tr>\n",
       "    <tr>\n",
       "      <th>196</th>\n",
       "      <td>1.352274</td>\n",
       "      <td>0.836993</td>\n",
       "      <td>0.731084</td>\n",
       "      <td>0.496648</td>\n",
       "      <td>0.309041</td>\n",
       "      <td>1.937544</td>\n",
       "    </tr>\n",
       "    <tr>\n",
       "      <th>197</th>\n",
       "      <td>1.343206</td>\n",
       "      <td>0.840403</td>\n",
       "      <td>0.736939</td>\n",
       "      <td>0.505943</td>\n",
       "      <td>0.320563</td>\n",
       "      <td>1.932175</td>\n",
       "    </tr>\n",
       "    <tr>\n",
       "      <th>198</th>\n",
       "      <td>1.354964</td>\n",
       "      <td>0.835978</td>\n",
       "      <td>0.729343</td>\n",
       "      <td>0.493899</td>\n",
       "      <td>0.305672</td>\n",
       "      <td>1.939063</td>\n",
       "    </tr>\n",
       "    <tr>\n",
       "      <th>199</th>\n",
       "      <td>1.352514</td>\n",
       "      <td>0.836905</td>\n",
       "      <td>0.730934</td>\n",
       "      <td>0.496397</td>\n",
       "      <td>0.308734</td>\n",
       "      <td>1.937684</td>\n",
       "    </tr>\n",
       "  </tbody>\n",
       "</table>\n",
       "<p>200 rows × 6 columns</p>\n",
       "</div>"
      ],
      "text/plain": [
       "            0         1         2         3         4         5\n",
       "0    1.350336  0.837728  0.732342  0.498624  0.311475  1.936432\n",
       "1    1.358233  0.834756  0.727248  0.490541  0.301588  1.940877\n",
       "2    1.348769  0.838312  0.733349  0.500238  0.313467  1.935513\n",
       "3    1.363316  0.832843  0.723976  0.485341  0.295314  1.943601\n",
       "4    1.355395  0.835828  0.729089  0.493436  0.305115  1.939316\n",
       "..        ...       ...       ...       ...       ...       ...\n",
       "195  1.361471  0.833524  0.725141  0.487252  0.297604  1.942613\n",
       "196  1.352274  0.836993  0.731084  0.496648  0.309041  1.937544\n",
       "197  1.343206  0.840403  0.736939  0.505943  0.320563  1.932175\n",
       "198  1.354964  0.835978  0.729343  0.493899  0.305672  1.939063\n",
       "199  1.352514  0.836905  0.730934  0.496397  0.308734  1.937684\n",
       "\n",
       "[200 rows x 6 columns]"
      ]
     },
     "execution_count": 23,
     "metadata": {},
     "output_type": "execute_result"
    }
   ],
   "source": [
    "params_list"
   ]
  },
  {
   "cell_type": "markdown",
   "metadata": {},
   "source": [
    "### U-net encoding"
   ]
  },
  {
   "cell_type": "code",
   "execution_count": 31,
   "metadata": {},
   "outputs": [
    {
     "name": "stdout",
     "output_type": "stream",
     "text": [
      "Stored UNet Output: torch.Size([1, 1024, 2, 2])\n"
     ]
    }
   ],
   "source": [
    "# Create a dictionary to store the output\n",
    "hook_storage = {}\n",
    "\n",
    "# Define the hook function using a closure\n",
    "def get_hook(storage):\n",
    "    def hook_fn(module, input, output):\n",
    "        storage[\"unet_output\"] = output  # Store output in the dictionary\n",
    "    return hook_fn\n",
    "# Register the hook on the UNet\n",
    "hook_handle = ltt_model.unet.register_forward_hook(get_hook(hook_storage))\n",
    "\n",
    "# Run the forward pass\n",
    "output = ltt_model.forward(latents[0])\n",
    "\n",
    "# Retrieve the stored UNet output\n",
    "unet_output = hook_storage[\"unet_output\"]\n",
    "print(\"Stored UNet Output:\", unet_output.shape)\n",
    "\n",
    "\n"
   ]
  },
  {
   "cell_type": "code",
   "execution_count": 38,
   "metadata": {},
   "outputs": [],
   "source": [
    "def mse(tensor1, tensor2):\n",
    "    return torch.mean((tensor1 - tensor2) ** 2)"
   ]
  },
  {
   "cell_type": "code",
   "execution_count": 53,
   "metadata": {},
   "outputs": [
    {
     "data": {
      "image/png": "[encoded data removed]",
      "text/plain": [
       "<Figure size 1000x800 with 2 Axes>"
      ]
     },
     "metadata": {},
     "output_type": "display_data"
    }
   ],
   "source": [
    "encodings = []\n",
    "num_matrices = 20\n",
    "for latent in latents[:num_matrices]:\n",
    "    output = ltt_model.forward(latent)\n",
    "    encodings.append(hook_storage[\"unet_output\"])\n",
    "\n",
    "\n",
    "mse_matrix = np.zeros((num_matrices, num_matrices))\n",
    "\n",
    "for i in range(num_matrices):\n",
    "    for j in range(num_matrices):\n",
    "        mse_matrix[i, j] = mse(encodings[i], encodings[j])\n",
    "\n",
    "# Plot the heatmap\n",
    "plt.figure(figsize=(10, 8))\n",
    "sns.heatmap(mse_matrix, annot=False, cmap=\"viridis\", linewidths=0.5)\n",
    "plt.title(\"Pairwise MSE Heatmap\")\n",
    "plt.xlabel(\"Matrix Index\")\n",
    "plt.ylabel(\"Matrix Index\")\n",
    "plt.show()\n",
    "\n"
   ]
  },
  {
   "cell_type": "code",
   "execution_count": 54,
   "metadata": {},
   "outputs": [
    {
     "data": {
      "text/plain": [
       "tensor([[[0.0000, 0.0000],\n",
       "         [0.0000, 0.0000]],\n",
       "\n",
       "        [[0.0000, 0.0000],\n",
       "         [0.0000, 0.0000]],\n",
       "\n",
       "        [[0.0000, 0.0000],\n",
       "         [0.0000, 0.0000]],\n",
       "\n",
       "        ...,\n",
       "\n",
       "        [[0.0000, 0.0000],\n",
       "         [0.0000, 0.0000]],\n",
       "\n",
       "        [[8.9047, 3.1766],\n",
       "         [3.6043, 1.3548]],\n",
       "\n",
       "        [[3.2127, 0.0000],\n",
       "         [3.4294, 0.0000]]], grad_fn=<AsStridedBackward0>)"
      ]
     },
     "execution_count": 54,
     "metadata": {},
     "output_type": "execute_result"
    }
   ],
   "source": [
    "encodings[1]"
   ]
  },
  {
   "cell_type": "code",
   "execution_count": 55,
   "metadata": {},
   "outputs": [
    {
     "data": {
      "text/plain": [
       "tensor([[[0.0000, 0.0000],\n",
       "         [0.0000, 0.0000]],\n",
       "\n",
       "        [[0.0000, 0.0000],\n",
       "         [0.0000, 0.0000]],\n",
       "\n",
       "        [[0.0000, 0.0000],\n",
       "         [0.0000, 0.0000]],\n",
       "\n",
       "        ...,\n",
       "\n",
       "        [[0.0000, 0.0000],\n",
       "         [0.0000, 0.0000]],\n",
       "\n",
       "        [[8.6716, 3.0921],\n",
       "         [3.5086, 1.3199]],\n",
       "\n",
       "        [[3.1303, 0.0000],\n",
       "         [3.3395, 0.0000]]], grad_fn=<AsStridedBackward0>)"
      ]
     },
     "execution_count": 55,
     "metadata": {},
     "output_type": "execute_result"
    }
   ],
   "source": [
    "encodings[2]"
   ]
  },
  {
   "cell_type": "code",
   "execution_count": 50,
   "metadata": {},
   "outputs": [
    {
     "data": {
      "text/plain": [
       "1"
      ]
     },
     "execution_count": 50,
     "metadata": {},
     "output_type": "execute_result"
    }
   ],
   "source": [
    "len(encodings)"
   ]
  },
  {
   "cell_type": "code",
   "execution_count": 46,
   "metadata": {},
   "outputs": [
    {
     "data": {
      "text/plain": [
       "tensor(0., grad_fn=<MeanBackward0>)"
      ]
     },
     "execution_count": 46,
     "metadata": {},
     "output_type": "execute_result"
    }
   ],
   "source": [
    "mse(encodings[0], encodings[0])"
   ]
  },
  {
   "cell_type": "code",
   "execution_count": 32,
   "metadata": {},
   "outputs": [],
   "source": [
    "params_list = [ltt_model.forward(latent) for latent in latents]"
   ]
  },
  {
   "cell_type": "code",
   "execution_count": 33,
   "metadata": {},
   "outputs": [],
   "source": [
    "unet_output = hook_storage[\"unet_output\"]"
   ]
  },
  {
   "cell_type": "code",
   "execution_count": 35,
   "metadata": {},
   "outputs": [
    {
     "data": {
      "text/plain": [
       "torch.Size([1, 1024, 2, 2])"
      ]
     },
     "execution_count": 35,
     "metadata": {},
     "output_type": "execute_result"
    }
   ],
   "source": [
    "unet_output.shape\n"
   ]
  }
 ],
 "metadata": {
  "kernelspec": {
   "display_name": "Python 3",
   "language": "python",
   "name": "python3"
  },
  "language_info": {
   "codemirror_mode": {
    "name": "ipython",
    "version": 3
   },
   "file_extension": ".py",
   "mimetype": "text/x-python",
   "name": "python",
   "nbconvert_exporter": "python",
   "pygments_lexer": "ipython3",
   "version": "3.9.18"
  }
 },
 "nbformat": 4,
 "nbformat_minor": 2
}

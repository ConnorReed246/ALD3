{
 "cells": [
  {
   "cell_type": "markdown",
   "id": "efd028d0",
   "metadata": {},
   "source": [
    "# Random stuff that helps me"
   ]
  },
  {
   "cell_type": "code",
   "execution_count": 1,
   "id": "61176935",
   "metadata": {},
   "outputs": [],
   "source": [
    "from PIL import Image\n",
    "\n",
    "img = Image.open(\"train_data/train_data_cifar10/uni_pc_NFE20_edm_seed0/validation/img/000061.png\")\n",
    "img = img.resize((320, 320), Image.NEAREST)  # 10x scale, sharp pixels\n",
    "img.save(\"graphics/ExampleImages/000061.png\")"
   ]
  },
  {
   "cell_type": "code",
   "execution_count": 3,
   "id": "da926898",
   "metadata": {},
   "outputs": [
    {
     "data": {
      "text/plain": [
       "(320, 320)"
      ]
     },
     "execution_count": 3,
     "metadata": {},
     "output_type": "execute_result"
    }
   ],
   "source": [
    "img.size"
   ]
  },
  {
   "cell_type": "code",
   "execution_count": null,
   "id": "a1f0ba36",
   "metadata": {},
   "outputs": [],
   "source": []
  }
 ],
 "metadata": {
  "kernelspec": {
   "display_name": "Python 3",
   "language": "python",
   "name": "python3"
  },
  "language_info": {
   "codemirror_mode": {
    "name": "ipython",
    "version": 3
   },
   "file_extension": ".py",
   "mimetype": "text/x-python",
   "name": "python",
   "nbconvert_exporter": "python",
   "pygments_lexer": "ipython3",
   "version": "3.9.18"
  }
 },
 "nbformat": 4,
 "nbformat_minor": 5
}
